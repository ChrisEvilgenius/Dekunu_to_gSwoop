{
 "cells": [
  {
   "cell_type": "code",
   "execution_count": 38,
   "metadata": {
    "scrolled": true
   },
   "outputs": [],
   "source": [
    "%matplotlib inline\n",
    "\n",
    "import pandas as pd\n",
    "import numpy as np\n",
    "from datetime import datetime, timedelta\n",
    "import csv\n",
    "import glob, os\n",
    "\n",
    "# Define the path for both the source & output csv files\n",
    "read_dir = 'C:/Users/jones.cs/Documents/Dekunu/In/'\n",
    "out_dir = 'C:/Users/jones.cs/Documents/Dekunu/Out/'\n",
    "\n",
    "# Create a list of all csv files in the read directory\n",
    "extension = 'csv'\n",
    "os.chdir(read_dir)\n",
    "files = [i for i in glob.glob('*.{}'.format(extension))]"
   ]
  },
  {
   "cell_type": "code",
   "execution_count": 39,
   "metadata": {},
   "outputs": [],
   "source": [
    "def convert(file_name, read_dir, out_dir):\n",
    "    \"\"\"Converts Dekunu csv logs to a valid gSwoop csv file via the following steps:\n",
    "        - read csv file from read_dir\n",
    "        - convert seperate GPS and GPScentisecond fields to ISO date format\n",
    "        - unit converstions\n",
    "        - calcuate the N & E velocity components from the compass heading & groundspeed\n",
    "        - write output csv file to out_dir with gSwoop_' prefix\"\"\"\n",
    "\n",
    "    file_path = read_dir+file_name\n",
    "    df = pd.read_csv(file_path, header=0, sep=',')\n",
    "\n",
    "    # Combine the gpsTime with centiseconds\n",
    "    df['time'] = df['gpsTime'] + df['gpsTimeCentiSec']/100\n",
    "\n",
    "    # time delta from epoch start @ 1970-01-01UTC + (elapsed time - (leap_count(2014) - leap_count(1980)))\n",
    "    df['time'] = datetime(1970, 1, 1) + pd.to_timedelta(df['time'] - (35 - 19), unit='s')\n",
    "\n",
    "    # Apply gSwoop time format e.g. 2016-09-10T14:20:51.40Z\n",
    "    df['time'] = df['time'].dt.strftime(\"%Y-%m-%dT%H:%M:%S.%fZ\")\n",
    "\n",
    "    df['velD'] = df['instVertSpeedMetersPerSec'] * -1 # Down is positive\n",
    "    df['groundspeed'] = df['gpsSpeedKnot'] * 0.514444 # Convert from knots to meters per second\n",
    "    df['lat'] = df['gpsLatitude']/1e6 # lat needs six deimal places\n",
    "    df['lon'] = df['gpsLongitude']/1e6 # Lon needs six deimal places\n",
    "\n",
    "    # Calculate North & East velocity components\n",
    "    conditions = [\n",
    "        (df['gpsAngleDegree'] >= 0) & (df['gpsAngleDegree'] < 90),\n",
    "        (df['gpsAngleDegree'] >= 90) & (df['gpsAngleDegree'] < 180),\n",
    "        (df['gpsAngleDegree'] >= 180) & (df['gpsAngleDegree'] < 270),\n",
    "        (df['gpsAngleDegree'] >= 270) & (df['gpsAngleDegree'] < 360)]\n",
    "\n",
    "    velN_calc = [\n",
    "        (  df['groundspeed'] * np.cos(np.radians(df['gpsAngleDegree']))),\n",
    "        (- df['groundspeed'] * np.cos(np.radians(180 - df['gpsAngleDegree']))),\n",
    "        (- df['groundspeed'] * np.cos(np.radians(df['gpsAngleDegree'] - 180))),\n",
    "        (  df['groundspeed'] * np.cos(np.radians(360 - df['gpsAngleDegree'])))]\n",
    "\n",
    "    velE_calc = [\n",
    "        (  df['groundspeed'] * np.sin(np.radians(df['gpsAngleDegree']))),\n",
    "        (  df['groundspeed'] * np.sin(np.radians(180 - df['gpsAngleDegree']))),\n",
    "        (- df['groundspeed'] * np.sin(np.radians(df['gpsAngleDegree'] - 180))),\n",
    "        (- df['groundspeed'] * np.sin(np.radians(360 - df['gpsAngleDegree'])))]\n",
    "\n",
    "    df['velN'] = np.select(conditions, velN_calc)\n",
    "    df['velE'] = np.select(conditions, velE_calc)\n",
    "    \n",
    "    # Fix column naming and create dummy data for missing columns\n",
    "    df['heading'] = df['gpsAngleDegree']\n",
    "    df['numSV'] = df['gpsNumOfSats']\n",
    "    df['hMSL'] = df['altitudeAboveGroundMeters']\n",
    "    df['hAcc'] = 1\n",
    "    df['vAcc'] = 1\n",
    "    df['sAcc'] = 1\n",
    "    df['cAcc'] = 1\n",
    "    df['gpsFix'] = 1\n",
    "\n",
    "    headers1 = ['time','lat','lon','hMSL','velN','velE','velD','hAcc','vAcc','sAcc','heading','cAcc','gpsFix','numSV']\n",
    "    headers2 = ['','(deg)','(deg)','(m)','(m/s)','(m/s)','(m/s)','(m)','(m)','(m/s)','(deg)','(deg)','','']\n",
    "\n",
    "    out = df[headers1]\n",
    "    out = out.groupby('time').mean().reset_index()\n",
    "    out.loc[0] = headers2\n",
    "    \n",
    "    # Write results to csv, output file is source file name prefixed by 'out'\n",
    "    file_path_out = out_dir+'gSwoop_'+file_name\n",
    "\n",
    "    out.to_csv(path_or_buf=file_path_out, \n",
    "          sep=',', \n",
    "          mode='a',\n",
    "          header = True, # This keeps the header in the csv file\n",
    "          index= False)  # Index False removes the row numbers present in the Datatable"
   ]
  },
  {
   "cell_type": "code",
   "execution_count": 40,
   "metadata": {
    "scrolled": true
   },
   "outputs": [],
   "source": [
    "# Iterate through all csv files in read_dir and write series of converted files to out_dir\n",
    "for file_name in files:\n",
    "\n",
    "    convert(file_name, read_dir, out_dir)"
   ]
  },
  {
   "cell_type": "code",
   "execution_count": null,
   "metadata": {},
   "outputs": [],
   "source": []
  }
 ],
 "metadata": {
  "kernelspec": {
   "display_name": "Python 3",
   "language": "python",
   "name": "python3"
  },
  "language_info": {
   "codemirror_mode": {
    "name": "ipython",
    "version": 3
   },
   "file_extension": ".py",
   "mimetype": "text/x-python",
   "name": "python",
   "nbconvert_exporter": "python",
   "pygments_lexer": "ipython3",
   "version": "3.5.5"
  }
 },
 "nbformat": 4,
 "nbformat_minor": 2
}
